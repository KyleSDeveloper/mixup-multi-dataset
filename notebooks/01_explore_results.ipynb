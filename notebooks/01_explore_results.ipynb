{
  "cells": [
    {
      "cell_type": "markdown",
      "metadata": {},
      "source": [
        "# Explore Mixup Results\n",
        "\n",
        "This notebook loads `results/results.csv`, aggregates metrics, and plots simple comparisons."
      ]
    },
    {
      "cell_type": "code",
      "execution_count": null,
      "metadata": {},
      "outputs": [],
      "source": [
        "import pandas as pd\n",
        "import matplotlib.pyplot as plt\n",
        "from pathlib import Path\n",
        "\n",
        "results_path = Path('../results/results.csv')\n",
        "df = pd.read_csv(results_path)\n",
        "display(df.head())\n",
        "\n",
        "group = df.groupby(['dataset','mixup_alpha'])[['test_acc','test_loss','ece_test']].agg(['mean','std']).round(4)\n",
        "display(group)\n",
        "\n",
        "# Simple bar plot: accuracy by dataset/mixup\n",
        "datasets = df['dataset'].unique()\n",
        "for ds in datasets:\n",
        "    sub = df[df['dataset']==ds]\n",
        "    means = sub.groupby('mixup_alpha')['test_acc'].mean().sort_index()\n",
        "    plt.figure()\n",
        "    means.plot(kind='bar', title=f'{ds} - Test Accuracy by Mixup Alpha')\n",
        "    plt.ylabel('Accuracy')\n",
        "    plt.show()\n"
      ]
    }
  ],
  "metadata": {
    "kernelspec": {
      "display_name": "Python 3",
      "language": "python",
      "name": "python3"
    },
    "language_info": {
      "name": "python",
      "version": "3.12"
    }
  },
  "nbformat": 4,
  "nbformat_minor": 5
}